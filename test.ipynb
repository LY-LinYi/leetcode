{
 "cells": [
  {
   "cell_type": "code",
   "execution_count": 1,
   "id": "ced6e7a2",
   "metadata": {},
   "outputs": [],
   "source": [
    "import pandas as pd\n",
    "import numpy as np\n"
   ]
  },
  {
   "cell_type": "code",
   "execution_count": 4,
   "id": "316655d8",
   "metadata": {},
   "outputs": [
    {
     "name": "stdout",
     "output_type": "stream",
     "text": [
      "[1, 3, 12, 0, 0]\n"
     ]
    }
   ],
   "source": [
    "class Solution(object):\n",
    "    def moveZeroes(self, nums):\n",
    "        \"\"\"\n",
    "        :type nums: List[int]\n",
    "        :rtype: None Do not return anything, modify nums in-place instead.\n",
    "        \"\"\"\n",
    "        n = len(nums)\n",
    "        i = j = 0\n",
    "        while j < n:\n",
    "            if nums[j] != 0:\n",
    "                nums[i], nums[j] = nums[j], nums[i]\n",
    "                i += 1\n",
    "            j += 1\n",
    "        return nums\n",
    "\n",
    "\n",
    "nums = [0,1,0,3,12]\n",
    "nums = [1,0,0,3,12]\n",
    "print(Solution().moveZeroes(nums))"
   ]
  },
  {
   "cell_type": "code",
   "execution_count": 8,
   "id": "c3b34c92",
   "metadata": {},
   "outputs": [
    {
     "name": "stdout",
     "output_type": "stream",
     "text": [
      "49\n"
     ]
    }
   ],
   "source": [
    "class Solution(object):\n",
    "    def maxArea(self, height):\n",
    "        \"\"\"\n",
    "        :type height: List[int]\n",
    "        :rtype: int\n",
    "        \"\"\"\n",
    "        n = len(height)\n",
    "        max_num = 0\n",
    "        i, j = 0, n-1\n",
    "        while i < j:\n",
    "            tmp_num = min(height[i], height[j]) * (j - i)\n",
    "            max_num = max(max_num, tmp_num)\n",
    "            if height[i] <= height[j]:\n",
    "                i += 1\n",
    "            else:\n",
    "                j -= 1\n",
    "        return max_num\n",
    "        \n",
    "\n",
    "height = [1,8,6,2,5,4,9,3,7]\n",
    "# height = [1,1]\n",
    "solution = Solution()\n",
    "print(solution.maxArea(height))"
   ]
  },
  {
   "cell_type": "code",
   "execution_count": 6,
   "id": "47d73e00",
   "metadata": {},
   "outputs": [
    {
     "name": "stdout",
     "output_type": "stream",
     "text": [
      "[[-4, 2, 2], [-1, -1, 2], [-1, 0, 1]]\n"
     ]
    }
   ],
   "source": [
    "class Solution(object):\n",
    "    def threeSum(self, nums):\n",
    "        \"\"\"\n",
    "        :type nums: List[int]\n",
    "        :rtype: List[List[int]]\n",
    "        \"\"\"\n",
    "        n = len(nums)\n",
    "        nums = sorted(nums)\n",
    "        ans = []\n",
    "        for first in range(n-2):\n",
    "            if first > 0 and nums[first] == nums[first-1]:\n",
    "                continue\n",
    "            third = n - 1\n",
    "            target = -nums[first]\n",
    "            for second in range(first+1, n):\n",
    "                if second > first + 1 and nums[second] == nums[second-1]:\n",
    "                    continue\n",
    "                while second < third and nums[second] + nums[third] > target:\n",
    "                        third -= 1\n",
    "                if second == third:\n",
    "                    break\n",
    "                if nums[second] + nums[third] == target:\n",
    "                    ans.append([nums[first], nums[second], nums[third]])\n",
    "        return ans\n",
    "\n",
    "\n",
    "nums = [-1,0,1,2,-1,-4,2]\n",
    "print(Solution().threeSum(nums))"
   ]
  },
  {
   "cell_type": "code",
   "execution_count": 13,
   "id": "529ec313",
   "metadata": {},
   "outputs": [
    {
     "name": "stdout",
     "output_type": "stream",
     "text": [
      "6\n",
      "6\n",
      "6\n"
     ]
    }
   ],
   "source": [
    "class Solution(object):\n",
    "    def trap_dynamic(self, height):\n",
    "        \"\"\"\n",
    "        :type height: List[int]\n",
    "        :rtype: int\n",
    "        \"\"\"\n",
    "        n = len(height)\n",
    "        left_max = [height[0]] + [0] * (n - 1)\n",
    "        ans = 0\n",
    "        for i in range(1, n):\n",
    "            left_max[i] = max(left_max[i-1], height[i])\n",
    "            \n",
    "        right_max = [0] * (n - 1) + [height[n-1]]\n",
    "        for i in range(n-2, -1, -1):\n",
    "            right_max[i] = max(right_max[i+1], height[i])\n",
    "            \n",
    "        for i in range(n):\n",
    "            ans += min(left_max[i], right_max[i]) - height[i]\n",
    "        return ans\n",
    "    \n",
    "    def trap_stack(self, height):\n",
    "        \"\"\"\n",
    "        :type height: List[int]\n",
    "        :rtype: int\n",
    "        \"\"\"\n",
    "        n = len(height)\n",
    "        stack = list()\n",
    "        ans = 0\n",
    "        for i, h in enumerate(height):\n",
    "            while stack and h > height[stack[-1]]:\n",
    "                top = stack.pop()\n",
    "                if not stack:\n",
    "                    break\n",
    "                left = stack[-1]\n",
    "                currendWidth = i - left - 1\n",
    "                currendHeight = min(height[left], h) - height[top]\n",
    "                ans += currendWidth * currendHeight\n",
    "            stack.append(i)\n",
    "        return ans\n",
    "    \n",
    "    def trap_point(self, height):\n",
    "        \"\"\"\n",
    "        :type height: List[int]\n",
    "        :rtype: int\n",
    "        \"\"\"\n",
    "        ans = 0\n",
    "        n = len(height)\n",
    "        left, right = 0, n-1\n",
    "        leftMax, rightMax = 0, 0\n",
    "        while left < right:\n",
    "            leftMax = max(leftMax, height[left])\n",
    "            rightMax = max(rightMax, height[right])\n",
    "            if height[left] < height[right]:\n",
    "                ans += leftMax - height[left]\n",
    "                left += 1\n",
    "            else:\n",
    "                ans += rightMax - height[right]\n",
    "                right -= 1\n",
    "        return ans\n",
    "\n",
    "\n",
    "height = [0,1,0,2,1,0,1,3,2,1,2,1]\n",
    "print(Solution().trap_dynamic(height))\n",
    "print(Solution().trap_stack(height))\n",
    "print(Solution().trap_point(height))"
   ]
  },
  {
   "cell_type": "code",
   "execution_count": 53,
   "id": "155d81cd",
   "metadata": {},
   "outputs": [
    {
     "name": "stdout",
     "output_type": "stream",
     "text": [
      "3\n",
      "1\n",
      "3\n",
      "2\n"
     ]
    }
   ],
   "source": [
    "class Solution(object):\n",
    "    def lengthOfLongestSubstring(self, s):\n",
    "        \"\"\"\n",
    "        :type s: str\n",
    "        :rtype: int\n",
    "        \"\"\"\n",
    "        ans = 0\n",
    "        n = len(s)\n",
    "        if n < 2:\n",
    "            return n\n",
    "        hashSet = set()\n",
    "        left = 0\n",
    "        for right in range(n):\n",
    "            ch = s[right]\n",
    "            while ch in hashSet:\n",
    "                hashSet.remove(s[left])\n",
    "                left += 1\n",
    "            hashSet.add(ch)\n",
    "            ans = max(ans, right - left + 1)\n",
    "        return ans\n",
    "                \n",
    "                \n",
    "s = Solution()\n",
    "print(s.lengthOfLongestSubstring(\"abcabcbb\"))\n",
    "print(s.lengthOfLongestSubstring(\"bbbbb\"))\n",
    "print(s.lengthOfLongestSubstring(\"pwwkew\"))\n",
    "print(s.lengthOfLongestSubstring(\"au\"))"
   ]
  },
  {
   "cell_type": "code",
   "execution_count": null,
   "id": "16217a5f",
   "metadata": {},
   "outputs": [],
   "source": [
    "class Solution(object):\n",
    "    def findAnagrams1(self, s, p):\n",
    "        \"\"\"\n",
    "        :type s: str\n",
    "        :type p: str\n",
    "        :rtype: List[int]\n",
    "        \"\"\"\n",
    "        s_len, p_len = len(s), len(p)\n",
    "        if p_len > s_len:\n",
    "            return []\n",
    "        s_list = [0] * 26\n",
    "        p_list = [0] * 26\n",
    "        ans = []\n",
    "\n",
    "        for i in range(p_len):\n",
    "            s_list[ord(s[i]) - 97] += 1\n",
    "            p_list[ord(p[i]) - 97] += 1\n",
    "\n",
    "        if s_list == p_list:\n",
    "            ans.append(0)\n",
    "\n",
    "        for i in range(s_len-p_len):\n",
    "            s_list[ord(s[i]) - 97] -= 1\n",
    "            s_list[ord(s[i+p_len]) - 97] += 1\n",
    "            if s_list == p_list:\n",
    "                ans.append(i+1)\n",
    "                \n",
    "        return ans\n",
    "        \n",
    "    def findAnagrams2(self, s, p):\n",
    "        \"\"\"\n",
    "        :type s: str\n",
    "        :type p: str\n",
    "        :rtype: List[int]\n",
    "        \"\"\"\n",
    "        s_len, p_len = len(s), len(p)\n",
    "        if p_len > s_len:\n",
    "            return []\n",
    "        ans = []\n",
    "        tmp_list = [0] * 26\n",
    "        \n",
    "        for i in range(p_len):\n",
    "            \n",
    "\n",
    "\n",
    "s = \"cbaebabacd\"\n",
    "p = \"abc\"\n",
    "print(Solution().findAnagrams(s, p))"
   ]
  },
  {
   "cell_type": "code",
   "execution_count": 69,
   "id": "44106c13",
   "metadata": {},
   "outputs": [],
   "source": [
    "s = \"cbaebabacd\"\n",
    "p = \"abc\"\n",
    "s_len, p_len = len(s), len(p)\n",
    "if p_len > s_len:\n",
    "    return []\n",
    "ans = []\n",
    "tmp_list = [0] * 26\n",
    "\n",
    "for i in range(p_len):\n",
    "    tmp_list[ord(s[i]) - 97] += 1\n",
    "    tmp_list[ord(p[i]) - 97] -= 1\n",
    "    \n",
    "differ = [c != 0 for c in tmp_list].count(True)\n",
    "\n",
    "if differ == 0:\n",
    "    ans.append(0)\n",
    "    \n",
    "for i in range(s_len - p_len):\n",
    "    if tmp_list[ord(s[i]) - 97] == 1:\n",
    "        differ -= 1\n",
    "    if tmp_list[ord(s[i]) - 97] == 0:\n",
    "        differ += 1\n",
    "        \n",
    "    tmp_list[ord(s[i]) - 97] -= 1\n",
    "    \n",
    "    if tmp_list[ord(s[i + p_len]) - 97] == 0:\n",
    "        differ += 1\n",
    "    if tmp_list[ord(s[i + p_len]) - 97] == -1:\n",
    "        differ -= 1\n",
    "    \n",
    "    if differ == 0:\n",
    "        ans.append(i+1)"
   ]
  },
  {
   "cell_type": "code",
   "execution_count": 70,
   "id": "7a9ca513",
   "metadata": {},
   "outputs": [
    {
     "data": {
      "text/plain": [
       "[0, 6]"
      ]
     },
     "execution_count": 70,
     "metadata": {},
     "output_type": "execute_result"
    }
   ],
   "source": [
    "class Solution(object):\n",
    "    def subarraySum(self, nums, k):\n",
    "        \"\"\"\n",
    "        :type nums: List[int]\n",
    "        :type k: int\n",
    "        :rtype: int\n",
    "        \"\"\"\n",
    "        n = len(nums)\n",
    "        \n",
    "\n",
    "\n",
    "nums = [1,1,1]\n",
    "k = 2\n",
    "print(Solution().subarraySum(nums, k))"
   ]
  },
  {
   "cell_type": "code",
   "execution_count": 82,
   "id": "e19404ba",
   "metadata": {},
   "outputs": [],
   "source": [
    "nums = [1,2,1,2,1]\n",
    "k = 3\n",
    "\n",
    "# nums = sorted(nums)\n",
    "n = len(nums)\n",
    "ans = 0\n",
    "\n",
    "for left in range(n):\n",
    "    if nums[left] == k:\n",
    "        ans += 1\n",
    "    target = k - nums[left]\n",
    "    for right in range(left+1, n):\n",
    "        if nums[right] > target:\n",
    "            break\n",
    "        if sum(nums[left:right+1]) == k:\n",
    "            ans += 1\n",
    "            break\n",
    "        target -= nums[right]"
   ]
  },
  {
   "cell_type": "code",
   "execution_count": 17,
   "id": "c24721ef",
   "metadata": {},
   "outputs": [],
   "source": [
    "import collections\n",
    "\n",
    "class Solution(object):\n",
    "    def minWindow(self, s, t):\n",
    "        \"\"\"\n",
    "        :type s: str\n",
    "        :type t: str\n",
    "        :rtype: str\n",
    "        \"\"\"\n",
    "        \n",
    "\n",
    "\n",
    "s = \"ADOBECODEBANC\"\n",
    "t = \"ABC\"\n",
    "# print(Solution().minWindow(s, t))\n",
    "\n",
    "need = collections.defaultdict(int)\n",
    "res = (0, float('inf'))\n",
    "for c in t:\n",
    "    need[c] -= 1\n",
    "needCnt = len(t)\n",
    "    \n",
    "i = 0\n",
    "for j, c in enumerate(s):\n",
    "    if need[c] < 0:\n",
    "        needCnt -= 1\n",
    "    need[c] += 1\n",
    "    if needCnt == 0:\n",
    "        while True:\n",
    "            c = s[i]\n",
    "            if need[c] == 0:\n",
    "                break\n",
    "            need[c] -= 1\n",
    "            i += 1\n",
    "        if j - i < res[1] - res[0]:\n",
    "            res = (i, j)\n",
    "        need[s[i]] -= 1\n",
    "        needCnt += 1\n",
    "        i += 1"
   ]
  },
  {
   "cell_type": "code",
   "execution_count": 22,
   "id": "87a5ac20",
   "metadata": {},
   "outputs": [],
   "source": [
    "class Solution(object):\n",
    "    def maxSubArray(self, nums):\n",
    "        \"\"\"\n",
    "        :type nums: List[int]\n",
    "        :rtype: int\n",
    "        \"\"\"\n",
    "        \n",
    "\n",
    "nums = [-2,1,-3,4,-1,2,1,-5,4]\n",
    "ans = -float('inf')\n",
    "presum, min_presum = 0, 0\n",
    "for x in nums:\n",
    "    presum += x\n",
    "    ans = max(ans, presum - min_presum)\n",
    "    min_presum = min(presum, min_presum)"
   ]
  },
  {
   "cell_type": "code",
   "execution_count": 27,
   "id": "4d69ac8a",
   "metadata": {},
   "outputs": [],
   "source": [
    "intervals = [[1,3],[2,6],[8,10],[15,18]]\n",
    "\n",
    "intervals.sort(key=lambda x: x[0])\n",
    "merge = []\n",
    "\n",
    "for interval in intervals:\n",
    "    if not merge or merge[-1][1] < interval[0]:\n",
    "        merge.append(interval)\n",
    "    else:\n",
    "        merge[-1][1] = max(merge[-1][1], interval[1])"
   ]
  },
  {
   "cell_type": "code",
   "execution_count": 32,
   "id": "744dc7a9",
   "metadata": {},
   "outputs": [
    {
     "name": "stdout",
     "output_type": "stream",
     "text": [
      "[5, 6, 7, 1, 2, 3, 4]\n",
      "[5, 6, 7, 1, 2, 3, 4]\n",
      "[5, 6, 7, 1, 2, 3, 4]\n"
     ]
    }
   ],
   "source": [
    "nums = [1,2,3,4,5,6,7]\n",
    "k = 3\n",
    "n = len(nums)\n",
    "k %= n\n",
    "nums[:] = nums[-k:] + nums[:-k]\n",
    "print(nums)\n",
    "\n",
    "nums = [1,2,3,4,5,6,7]\n",
    "k = 3\n",
    "n = len(nums)\n",
    "k %= n\n",
    "for _ in range(k):\n",
    "    nums.insert(0, nums.pop())\n",
    "print(nums)\n",
    "\n",
    "nums = [1,2,3,4,5,6,7]\n",
    "k = 3\n",
    "n = len(nums)\n",
    "k %= n\n",
    "nums[:] = nums[::-1]\n",
    "nums[:k] = nums[:k][::-1]\n",
    "nums[k:] = nums[k:][::-1]\n",
    "print(nums)"
   ]
  },
  {
   "cell_type": "code",
   "execution_count": 37,
   "id": "ee7dfddd",
   "metadata": {},
   "outputs": [
    {
     "name": "stdout",
     "output_type": "stream",
     "text": [
      "[24, 12, 8, 6]\n"
     ]
    }
   ],
   "source": [
    "nums = [1,2,3,4]\n",
    "n = len(nums)\n",
    "\n",
    "l, r, ans = [0] * n, [0] * n, [0] * n\n",
    "l[0] = 1\n",
    "for i in range(1, n):\n",
    "    l[i] = l[i-1] * nums[i-1]\n",
    "    \n",
    "r[-1] = 1\n",
    "for i in range(n-2,-1,-1):\n",
    "    r[i] = r[i+1] * nums[i+1]\n",
    "\n",
    "for i in range(n):\n",
    "    ans[i] = l[i] * r[i]\n",
    "\n",
    "print(ans)"
   ]
  },
  {
   "cell_type": "code",
   "execution_count": 4,
   "id": "2e11e8b9",
   "metadata": {},
   "outputs": [
    {
     "name": "stdout",
     "output_type": "stream",
     "text": [
      "[2, -2]\n"
     ]
    }
   ],
   "source": [
    "nums = [1,2,0]\n",
    "nums = [3,4,-1,1]\n",
    "nums = [2, 2]\n",
    "\n",
    "n = len(nums)\n",
    "for i in range(n):\n",
    "    if nums[i] <= 0:\n",
    "        nums[i] = n + 1\n",
    "    \n",
    "for i in range(n):\n",
    "    num = abs(nums[i])\n",
    "    if num <= n:\n",
    "        nums[num - 1] = - abs(nums[num - 1])\n",
    "        \n",
    "for i in range(n):\n",
    "    if nums[i] > 0:\n",
    "        break\n",
    "        print(nums)\n",
    "\n",
    "print(nums)"
   ]
  },
  {
   "cell_type": "code",
   "execution_count": null,
   "id": "75837aea",
   "metadata": {},
   "outputs": [],
   "source": [
    "nums = [1,2,0]\n",
    "nums = [3,4,-1,1]\n",
    "nums = [2, 2]\n",
    "\n",
    "\n",
    "n = len(nums)\n",
    "\n",
    "for i in range(n):\n",
    "    while 0 < nums[i] <= n and nums[nums[i] - 1] !=  nums[i]:\n",
    "        nums[nums[i] - 1], nums[i] = nums[i], nums[nums[i] - 1]\n",
    "        \n",
    "for i in range(n):\n",
    "    if nums[i] != i + 1:\n",
    "        return i + 1\n",
    "    \n",
    "return n+1"
   ]
  },
  {
   "cell_type": "code",
   "execution_count": null,
   "id": "0a06d534",
   "metadata": {},
   "outputs": [],
   "source": [
    "matrix = [[0,1,2,0],[3,4,5,2],[1,3,1,5]]\n",
    "\n",
    "m, n = len(matrix), len(matrix[0])\n",
    "row, col = [False] * m, [False] * n\n",
    "\n",
    "for i in range(m):\n",
    "    for j in range(n):\n",
    "        if matrix[i][j] == 0:\n",
    "            row[i] = col[j] = True\n",
    "            \n",
    "for i in range(m):\n",
    "    for j in range(n):\n",
    "        if row[i] or col[j]:\n",
    "            matrix[i][j] = 0"
   ]
  }
 ],
 "metadata": {
  "kernelspec": {
   "display_name": "Python 3",
   "language": "python",
   "name": "python3"
  },
  "language_info": {
   "codemirror_mode": {
    "name": "ipython",
    "version": 3
   },
   "file_extension": ".py",
   "mimetype": "text/x-python",
   "name": "python",
   "nbconvert_exporter": "python",
   "pygments_lexer": "ipython3",
   "version": "3.8.8"
  }
 },
 "nbformat": 4,
 "nbformat_minor": 5
}
